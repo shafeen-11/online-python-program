{
 "cells": [
  {
   "cell_type": "code",
   "execution_count": 2,
   "id": "b31fac87",
   "metadata": {},
   "outputs": [
    {
     "name": "stdout",
     "output_type": "stream",
     "text": [
      "Enter radius2.5\n",
      "19.6375\n"
     ]
    }
   ],
   "source": [
    "#question 4\n",
    "\n",
    "radius=float(input(\"Enter radius\"));\n",
    "area=(3.142*(radius**2));\n",
    "print(area);"
   ]
  },
  {
   "cell_type": "code",
   "execution_count": 3,
   "id": "aee5cfb3",
   "metadata": {},
   "outputs": [
    {
     "name": "stdout",
     "output_type": "stream",
     "text": [
      "Twinkle, twinkle, little star, \n",
      "         How I wonder what you are! \n",
      "              Up above the world so high, \n",
      "              Like a diamond in the sky. \n",
      "Twinkle twinkle little star, \n",
      "        How I wonder what you are\n"
     ]
    }
   ],
   "source": [
    "#question 1\n",
    "\n",
    "print (\"Twinkle, twinkle, little star, \\n         How I wonder what you are! \\n              Up above the world so high, \\n              Like a diamond in the sky. \\nTwinkle twinkle little star, \\n        How I wonder what you are\" );"
   ]
  },
  {
   "cell_type": "code",
   "execution_count": 5,
   "id": "51c8a4b8",
   "metadata": {},
   "outputs": [
    {
     "name": "stdout",
     "output_type": "stream",
     "text": [
      "Enter Val 19\n",
      "Enter Val 212\n",
      "21.0\n"
     ]
    }
   ],
   "source": [
    "#question 6\n",
    "\n",
    "value1=float(input(\"Enter Val 1\"));\n",
    "value2=float(input(\"Enter Val 2\"));\n",
    "add=value1+value2;\n",
    "print(add);"
   ]
  },
  {
   "cell_type": "code",
   "execution_count": 8,
   "id": "8b22bb5f",
   "metadata": {},
   "outputs": [
    {
     "name": "stdout",
     "output_type": "stream",
     "text": [
      "3.8.8 (default, Apr 13 2021, 15:08:03) [MSC v.1916 64 bit (AMD64)]\n"
     ]
    }
   ],
   "source": [
    "#question 2\n",
    "import sys\n",
    "print(sys.version)"
   ]
  },
  {
   "cell_type": "code",
   "execution_count": 9,
   "id": "4641936c",
   "metadata": {},
   "outputs": [
    {
     "name": "stdout",
     "output_type": "stream",
     "text": [
      "24-10-21 13:07:31\n"
     ]
    }
   ],
   "source": [
    "#question 3\n",
    "import datetime\n",
    "n=datetime.datetime.now()\n",
    "print(n.strftime(\"%d-%m-%y %H:%M:%S\"))"
   ]
  },
  {
   "cell_type": "code",
   "execution_count": 12,
   "id": "6dbda1b7",
   "metadata": {},
   "outputs": [
    {
     "name": "stdout",
     "output_type": "stream",
     "text": [
      "Enter your first nameshafeen\n",
      "Enter your last namefatima\n",
      "fatima shafeen\n"
     ]
    }
   ],
   "source": [
    "#question 5\n",
    "\n",
    "fname=input(\"Enter your first name\")\n",
    "sname=input(\"Enter your last name\")\n",
    "print(sname,fname)"
   ]
  },
  {
   "cell_type": "code",
   "execution_count": 15,
   "id": "543c0bbd",
   "metadata": {},
   "outputs": [
    {
     "name": "stdout",
     "output_type": "stream",
     "text": [
      "Enter Maths marks100\n",
      "Enter english marks75\n",
      "Enter isl marks75\n",
      "Enter physics marks85\n",
      "Enter cheistry marks80\n",
      "Grade A+\n"
     ]
    }
   ],
   "source": [
    "#question 7\n",
    "\n",
    "m=int(input(\"Enter Maths marks\"));\n",
    "e=int(input(\"Enter english marks\"));\n",
    "i=int(input(\"Enter isl marks\"));\n",
    "p=int(input(\"Enter physics marks\"));\n",
    "c=int(input(\"Enter cheistry marks\"));\n",
    "t= 500;\n",
    "percent=((m+e+i+p+c)/t)*100;\n",
    "if percent < 100 and percent > 80:\n",
    "       print ('Grade A+');\n",
    "elif percent<80 and percent >70:\n",
    "      print('Grade A');\n",
    "elif percent <70 and percent> 60:\n",
    "      print('Grade B');\n",
    "elif percent<60 and percent>50:\n",
    "      print('Grade C');\n",
    "elif perecent <50 and percent >40:\n",
    "      print('Grade D');\n",
    "else:\n",
    "    print('Fail');"
   ]
  },
  {
   "cell_type": "code",
   "execution_count": 17,
   "id": "ddcd77f5",
   "metadata": {},
   "outputs": [
    {
     "name": "stdout",
     "output_type": "stream",
     "text": [
      "Enter a value2\n",
      "Even\n"
     ]
    }
   ],
   "source": [
    "#question 8\n",
    "\n",
    "number=int(input(\"Enter a value\"));\n",
    "remainder=number%2;\n",
    "if(remainder==0):\n",
    "    print(\"Even\");\n",
    "else: \n",
    "        print(\"odd\");"
   ]
  },
  {
   "cell_type": "code",
   "execution_count": 27,
   "id": "0b32776f",
   "metadata": {},
   "outputs": [
    {
     "name": "stdout",
     "output_type": "stream",
     "text": [
      "[1, 4, 6, 7, 8]\n",
      "lenght of the list is 5\n"
     ]
    }
   ],
   "source": [
    "#question 9\n",
    "\n",
    "mylist=[1,4,6,7,8]\n",
    "print(mylist)\n",
    "print(\"lenght of the list is\",len(mylist))"
   ]
  },
  {
   "cell_type": "code",
   "execution_count": 28,
   "id": "d837b9ff",
   "metadata": {},
   "outputs": [
    {
     "name": "stdout",
     "output_type": "stream",
     "text": [
      "sum of the list is 26\n"
     ]
    }
   ],
   "source": [
    "#question 10\n",
    "\n",
    "mylist=[1,4,6,7,8]\n",
    "total=sum(mylist)\n",
    "print(\"sum of the list is\",total)"
   ]
  },
  {
   "cell_type": "code",
   "execution_count": 33,
   "id": "ca67915d",
   "metadata": {},
   "outputs": [
    {
     "name": "stdout",
     "output_type": "stream",
     "text": [
      "[1, 2, 5, 8, 9]\n",
      "largest element is: 9\n"
     ]
    }
   ],
   "source": [
    "#question 11\n",
    "\n",
    "mylist=[1,5,2,9,8]\n",
    "mylist.sort()\n",
    "print(mylist)\n",
    "print(\"largest element is:\",mylist[-1])"
   ]
  },
  {
   "cell_type": "code",
   "execution_count": 35,
   "id": "b73b9b49",
   "metadata": {
    "scrolled": true
   },
   "outputs": [
    {
     "name": "stdout",
     "output_type": "stream",
     "text": [
      "1\n",
      "1\n",
      "2\n",
      "3\n"
     ]
    }
   ],
   "source": [
    "#question 12\n",
    "\n",
    "a = [1, 1, 2, 3, 5, 8, 13, 21, 34, 55, 89]\n",
    "for i in a:\n",
    "    if i<5:\n",
    "        print(i)"
   ]
  },
  {
   "cell_type": "code",
   "execution_count": null,
   "id": "87ca698f",
   "metadata": {},
   "outputs": [],
   "source": []
  }
 ],
 "metadata": {
  "kernelspec": {
   "display_name": "Python 3",
   "language": "python",
   "name": "python3"
  },
  "language_info": {
   "codemirror_mode": {
    "name": "ipython",
    "version": 3
   },
   "file_extension": ".py",
   "mimetype": "text/x-python",
   "name": "python",
   "nbconvert_exporter": "python",
   "pygments_lexer": "ipython3",
   "version": "3.8.8"
  }
 },
 "nbformat": 4,
 "nbformat_minor": 5
}
